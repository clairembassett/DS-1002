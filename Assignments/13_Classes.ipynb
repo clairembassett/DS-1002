{
  "nbformat": 4,
  "nbformat_minor": 0,
  "metadata": {
    "colab": {
      "provenance": [],
      "include_colab_link": true
    },
    "kernelspec": {
      "name": "python3",
      "display_name": "Python 3"
    },
    "language_info": {
      "name": "python"
    }
  },
  "cells": [
    {
      "cell_type": "markdown",
      "metadata": {
        "id": "view-in-github",
        "colab_type": "text"
      },
      "source": [
        "<a href=\"https://colab.research.google.com/github/clairembassett/DS-1002/blob/main/Assignments/13_Classes.ipynb\" target=\"_parent\"><img src=\"https://colab.research.google.com/assets/colab-badge.svg\" alt=\"Open In Colab\"/></a>"
      ]
    },
    {
      "cell_type": "markdown",
      "source": [
        "## Assignment:  Classes\n",
        "### Due Sunday 28 April at 10pm"
      ],
      "metadata": {
        "id": "5Vy93BSp9Tum"
      }
    },
    {
      "cell_type": "markdown",
      "source": [
        "1.  Define a class called `Person` that has attributes `lastName`, `firstName`, `mother`, and `father`.  Both `mother` and `father` should have default value `unknown`.\n",
        "\n",
        "  Include a `__str__()` function that returns a string of the form '`firstName` `lastName`'.\n",
        "\n",
        "  Include a `__repr__()` function that returns a string that can be evaluated to recreate the `Person` object.\n",
        "\n"
      ],
      "metadata": {
        "id": "vcj5XQAI9Wsb"
      }
    },
    {
      "cell_type": "code",
      "source": [
        "class Person:\n",
        "\n",
        "  def __init__(self, firstName, lastName, mother=\"Unknown\", father=\"Unknown\"):\n",
        "        self.firstName = firstName\n",
        "        self.lastName = lastName\n",
        "        self.mother = mother\n",
        "        self.father = father\n",
        "\n",
        "  def __str__(self):\n",
        "       return f'{self.firstName} {self.lastName}'\n",
        "\n",
        "  def __repr__(self):\n",
        "      return f'Person({self.firstName} {self.lastName}, {self.mother}, {self.father})'"
      ],
      "metadata": {
        "id": "mjHDwHv3EpVe"
      },
      "execution_count": 97,
      "outputs": []
    },
    {
      "cell_type": "markdown",
      "source": [
        "Create a person (i.e., a `Person` object) called `p` with unknown parents.  (You will need to give your person a first and last name.) Check the type of `p`.  Include all inputs and outputs."
      ],
      "metadata": {
        "id": "-ppMsEIVHINl"
      }
    },
    {
      "cell_type": "code",
      "source": [
        "p1 = Person(\"Claire\", \"Bassett\")\n",
        "\n",
        "print(str(p1))\n",
        "print(repr(p1))\n",
        "print(type(p1))"
      ],
      "metadata": {
        "id": "5bwid_6gHIBH",
        "colab": {
          "base_uri": "https://localhost:8080/"
        },
        "outputId": "ea36ab57-17ff-4c9d-f579-b4fa1318bd76"
      },
      "execution_count": 98,
      "outputs": [
        {
          "output_type": "stream",
          "name": "stdout",
          "text": [
            "Claire Bassett\n",
            "Person(Claire Bassett, Unknown, Unknown)\n",
            "<class '__main__.Person'>\n"
          ]
        }
      ]
    },
    {
      "cell_type": "markdown",
      "source": [
        "Verify that your `__str__` and `__repr__` functions are doing what they are supposed to do.  Include all inputs and outputs."
      ],
      "metadata": {
        "id": "Z6zlUC3xRtal"
      }
    },
    {
      "cell_type": "code",
      "source": [
        "p2 = Person(\"Stephanie\", \"Santis\")\n",
        "\n",
        "print(str(p2))\n",
        "print(repr(p2))"
      ],
      "metadata": {
        "id": "jZO0dBQYRs-K",
        "colab": {
          "base_uri": "https://localhost:8080/"
        },
        "outputId": "11d777ac-ea9d-44b7-c4a3-f2a72e4d19d6"
      },
      "execution_count": 99,
      "outputs": [
        {
          "output_type": "stream",
          "name": "stdout",
          "text": [
            "Stephanie Santis\n",
            "Person(Stephanie Santis, Unknown, Unknown)\n"
          ]
        }
      ]
    },
    {
      "cell_type": "code",
      "source": [
        "p3 = Person(\"Renee\", \"Wells\")\n",
        "\n",
        "print(str(p3))\n",
        "print(repr(p3))"
      ],
      "metadata": {
        "colab": {
          "base_uri": "https://localhost:8080/"
        },
        "id": "IjZ77KuWxNWH",
        "outputId": "60d43488-9520-43e8-9070-0ceda9b66736"
      },
      "execution_count": 100,
      "outputs": [
        {
          "output_type": "stream",
          "name": "stdout",
          "text": [
            "Renee Wells\n",
            "Person(Renee Wells, Unknown, Unknown)\n"
          ]
        }
      ]
    },
    {
      "cell_type": "markdown",
      "source": [
        "Suppose the mother of `p` has been found and is named Taylor Swift.  Create a new person named Taylor Swift, and make her the mother of `p`:\n",
        "\n",
        "```\n",
        "> p.mother\n",
        "'Taylor Swift'\n",
        "```"
      ],
      "metadata": {
        "id": "1mOAThQiHzoQ"
      }
    },
    {
      "cell_type": "code",
      "source": [
        "np = Person('Taylor', 'Swift')\n",
        "p1.mother = np\n",
        "print(str(p1))\n",
        "print(repr(p1))"
      ],
      "metadata": {
        "id": "NYbDOorpHymz",
        "colab": {
          "base_uri": "https://localhost:8080/"
        },
        "outputId": "ab82c654-111c-4a2b-c244-d68cbbd25581"
      },
      "execution_count": 162,
      "outputs": [
        {
          "output_type": "stream",
          "name": "stdout",
          "text": [
            "Claire Bassett\n",
            "Person(Claire Bassett, Taylor Swift, Unknown)\n"
          ]
        }
      ]
    },
    {
      "cell_type": "markdown",
      "source": [
        "2.  Add some methods to your class.  Start by copying the `class` definition you already wrote.  Then, inside the `class` definition:\n",
        "\n",
        "  (a) Write a method called `unknownParent()` which returns `True` if any parent is 'unknown' and `False` otherwise.\n",
        "\n",
        "  (b) Write a method called `maternalGrandmother()` which returns the mother's mother.  If the mother is unknown, it should return 'unknown'.\n",
        "\n"
      ],
      "metadata": {
        "id": "1g1pcrmFHzGh"
      }
    },
    {
      "cell_type": "code",
      "source": [
        "class Person:\n",
        "\n",
        "  def __init__(self, firstName, lastName, mother = 'unknown', father = 'unknown'):\n",
        "        self.firstName = firstName\n",
        "        self.lastName = lastName\n",
        "        self.mother = mother\n",
        "        self.father = father\n",
        "\n",
        "  def __str__(self):\n",
        "       return f'{self.firstName} {self.lastName}'\n",
        "\n",
        "  def __repr__(self):\n",
        "      return f'Person({self.firstName} {self.lastName}, {self.mother}, {self.father})'\n",
        "\n",
        "  def unknownParent(self):\n",
        "      return True if self.mother == 'unknown' or self.father == 'unknown' else False\n",
        "\n",
        "  def maternalGrandmother(self):\n",
        "        if self.mother == 'unknown':\n",
        "            return 'Mother is unknown, so Maternal Grandmother is unknown'\n",
        "        else:\n",
        "            return 'Maternal Grandmother is Jolly Zelling'\n",
        "# I just made up a name as there is no instruction to add a Maternal Grandmother attribute"
      ],
      "metadata": {
        "id": "7mIxJGwwKTpv"
      },
      "execution_count": 178,
      "outputs": []
    },
    {
      "cell_type": "markdown",
      "source": [
        "Create enough `Person` objects to test whether your methods are working properly.  Show all your inputs and outputs.  It is up to you to demonstrate that you have thoroughly tested the code.  You may use additional code and/or text chunks if it helps."
      ],
      "metadata": {
        "id": "l9-4gxd8FxAQ"
      }
    },
    {
      "cell_type": "code",
      "source": [
        "p = Person(\"Claire\", \"Bassett\")\n",
        "print(str(p))\n",
        "print(repr(p))\n",
        "print(p.unknownParent())\n",
        "print(p.maternalGrandmother())"
      ],
      "metadata": {
        "id": "gX1qpcKzFwoZ",
        "colab": {
          "base_uri": "https://localhost:8080/"
        },
        "outputId": "e7637afc-5f03-4ee3-c781-5b8aaa75a1d9"
      },
      "execution_count": 179,
      "outputs": [
        {
          "output_type": "stream",
          "name": "stdout",
          "text": [
            "Claire Bassett\n",
            "Person(Claire Bassett, unknown, unknown)\n",
            "True\n",
            "Mother is unknown, so Maternal Grandmother is unknown\n"
          ]
        }
      ]
    },
    {
      "cell_type": "code",
      "source": [
        "p = Person(\"Claire\", \"Bassett\")\n",
        "np = Person('Jolanthe', 'Bassett')\n",
        "p.mother = np\n",
        "print(str(p))\n",
        "print(repr(p))\n",
        "print(p.unknownParent())\n",
        "print(p.maternalGrandmother())"
      ],
      "metadata": {
        "colab": {
          "base_uri": "https://localhost:8080/"
        },
        "id": "X_ldJ-gk8ck9",
        "outputId": "3aad1c07-826d-45b4-a086-034fac07db63"
      },
      "execution_count": 180,
      "outputs": [
        {
          "output_type": "stream",
          "name": "stdout",
          "text": [
            "Claire Bassett\n",
            "Person(Claire Bassett, Jolanthe Bassett, unknown)\n",
            "True\n",
            "Maternal Grandmother is Jolly Zelling\n"
          ]
        }
      ]
    },
    {
      "cell_type": "code",
      "source": [
        "p = Person(\"Claire\", \"Bassett\")\n",
        "np = Person('Jolanthe', 'Bassett')\n",
        "p.mother = np\n",
        "np = Person('Dave', 'Bassett')\n",
        "p.father = np\n",
        "print(str(p))\n",
        "print(repr(p))\n",
        "print(p.unknownParent())\n",
        "print(p.maternalGrandmother())"
      ],
      "metadata": {
        "colab": {
          "base_uri": "https://localhost:8080/"
        },
        "id": "qKffoznJ_ata",
        "outputId": "bb692f3e-df18-4af4-8a6b-02f84524dc5b"
      },
      "execution_count": 181,
      "outputs": [
        {
          "output_type": "stream",
          "name": "stdout",
          "text": [
            "Claire Bassett\n",
            "Person(Claire Bassett, Jolanthe Bassett, Dave Bassett)\n",
            "False\n",
            "Maternal Grandmother is Jolly Zelling\n"
          ]
        }
      ]
    },
    {
      "cell_type": "code",
      "source": [
        "p = Person(\"Claire\", \"Bassett\")\n",
        "np = Person('Dave', 'Bassett')\n",
        "p.father = np\n",
        "print(str(p))\n",
        "print(repr(p))\n",
        "print(p.unknownParent())\n",
        "print(p.maternalGrandmother())"
      ],
      "metadata": {
        "colab": {
          "base_uri": "https://localhost:8080/"
        },
        "id": "3eJ1AH3k_ryF",
        "outputId": "e1c039b1-e70a-45a8-d595-48b87392d5c6"
      },
      "execution_count": 182,
      "outputs": [
        {
          "output_type": "stream",
          "name": "stdout",
          "text": [
            "Claire Bassett\n",
            "Person(Claire Bassett, unknown, Dave Bassett)\n",
            "True\n",
            "Mother is unknown, so Maternal Grandmother is unknown\n"
          ]
        }
      ]
    }
  ]
}