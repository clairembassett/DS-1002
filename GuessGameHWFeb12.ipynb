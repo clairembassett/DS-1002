{
  "nbformat": 4,
  "nbformat_minor": 0,
  "metadata": {
    "colab": {
      "provenance": [],
      "authorship_tag": "ABX9TyN/RWZW7K2ShXIdBjSwQIHH",
      "include_colab_link": true
    },
    "kernelspec": {
      "name": "python3",
      "display_name": "Python 3"
    },
    "language_info": {
      "name": "python"
    }
  },
  "cells": [
    {
      "cell_type": "markdown",
      "metadata": {
        "id": "view-in-github",
        "colab_type": "text"
      },
      "source": [
        "<a href=\"https://colab.research.google.com/github/clairembassett/DS-1002/blob/main/GuessGameHWFeb12.ipynb\" target=\"_parent\"><img src=\"https://colab.research.google.com/assets/colab-badge.svg\" alt=\"Open In Colab\"/></a>"
      ]
    },
    {
      "cell_type": "code",
      "execution_count": null,
      "metadata": {
        "colab": {
          "base_uri": "https://localhost:8080/"
        },
        "id": "ml5sg9yNHqoZ",
        "outputId": "a1e7c8a0-ebb4-43ee-ecb9-b87ac3688484"
      },
      "outputs": [
        {
          "output_type": "stream",
          "name": "stdout",
          "text": [
            "I'm thinking of a number 1-100, can you guess what number I'm thinking of?\n",
            "Guess a number 1-100! 50\n",
            "Your guess was too high! Try again!\n",
            "Guess a number 1-100! 40\n",
            "Your guess was too high! Try again!\n",
            "Guess a number 1-100! y\n",
            "Your guess was not an integer! Guess a number 1-100!\n",
            "Guess a number 1-100! -100\n",
            "Guess a number between 0-100! Try Again!\n",
            "Guess a number 1-100! 20\n",
            "Your guess was too low! Try again!\n",
            "Guess a number 1-100! 30\n",
            "Your guess was too high! Try again!\n",
            "Guess a number 1-100! 25\n",
            "Your guess was too high! Try again!\n",
            "Guess a number 1-100! 23\n",
            "Your guess was too low! Try again!\n",
            "Guess a number 1-100! 24\n",
            "Congrats you got it!\n",
            "It took you 7 tries\n"
          ]
        }
      ],
      "source": [
        "#Time it took to complete this assigment:\n",
        "import numpy as np\n",
        "\n",
        "print(\"I'm thinking of a number 1-100, can you guess what number I'm thinking of?\")\n",
        "random_int = np.random.randint(1,100)\n",
        "\n",
        "num_guesses = 0\n",
        "\n",
        "while True:\n",
        "\n",
        "  try:\n",
        "\n",
        "    Guess = int(input(\"Guess a number 1-100! \"))\n",
        "\n",
        "    if 0 <= Guess <= 100:\n",
        "      num_guesses += 1\n",
        "\n",
        "      if Guess == random_int:\n",
        "        print(\"Congrats you got it!\")\n",
        "        print(\"It took you\", num_guesses, \"tries\")\n",
        "        break\n",
        "\n",
        "      elif random_int>Guess:\n",
        "          print(\"Your guess was too low! Try again!\")\n",
        "\n",
        "      else:\n",
        "        print(\"Your guess was too high! Try again!\")\n",
        "\n",
        "\n",
        "    else:\n",
        "      print(\"Guess a number between 0-100! Try Again!\")\n",
        "\n",
        "\n",
        "  except ValueError:\n",
        "      print(\"Your guess was not an integer! Guess a number 1-100!\")"
      ]
    }
  ]
}