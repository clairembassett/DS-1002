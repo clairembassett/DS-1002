{
  "nbformat": 4,
  "nbformat_minor": 0,
  "metadata": {
    "colab": {
      "provenance": [],
      "authorship_tag": "ABX9TyPK886NzHEamNhkgCthZi2V",
      "include_colab_link": true
    },
    "kernelspec": {
      "name": "python3",
      "display_name": "Python 3"
    },
    "language_info": {
      "name": "python"
    }
  },
  "cells": [
    {
      "cell_type": "markdown",
      "metadata": {
        "id": "view-in-github",
        "colab_type": "text"
      },
      "source": [
        "<a href=\"https://colab.research.google.com/github/clairembassett/DS-1002/blob/main/DS1002WORDSASSIGNMENT.ipynb\" target=\"_parent\"><img src=\"https://colab.research.google.com/assets/colab-badge.svg\" alt=\"Open In Colab\"/></a>"
      ]
    },
    {
      "cell_type": "code",
      "source": [
        "#Collaborated with Zoe Henderson"
      ],
      "metadata": {
        "id": "nE-gQledQzCa"
      },
      "execution_count": null,
      "outputs": []
    },
    {
      "cell_type": "code",
      "source": [
        "!pip install english_words\n",
        "from english_words import get_english_words_set\n",
        "words = get_english_words_set(['web2'], lower=True)"
      ],
      "metadata": {
        "colab": {
          "base_uri": "https://localhost:8080/"
        },
        "id": "vI-HDeBH3wr3",
        "outputId": "bb6eca2e-4049-4105-d0eb-146719b02cab"
      },
      "execution_count": null,
      "outputs": [
        {
          "output_type": "stream",
          "name": "stdout",
          "text": [
            "Requirement already satisfied: english_words in /usr/local/lib/python3.10/dist-packages (2.0.1)\n"
          ]
        }
      ]
    },
    {
      "cell_type": "code",
      "source": [
        "print('Words is type', type(words))\n",
        "wordlist = list(words)\n",
        "print('Wordlist is', len(wordlist), 'words long')"
      ],
      "metadata": {
        "colab": {
          "base_uri": "https://localhost:8080/"
        },
        "id": "6LdDExxK4FA8",
        "outputId": "0e2c4a00-1a62-49bd-8943-7977fa5bb39c"
      },
      "execution_count": null,
      "outputs": [
        {
          "output_type": "stream",
          "name": "stdout",
          "text": [
            "Words is type <class 'set'>\n",
            "Wordlist is 234450 words long\n"
          ]
        }
      ]
    },
    {
      "cell_type": "code",
      "source": [
        "print(wordlist[:10])\n",
        "alpha_list = sorted(wordlist)"
      ],
      "metadata": {
        "colab": {
          "base_uri": "https://localhost:8080/"
        },
        "id": "JFsznB8bZVd6",
        "outputId": "4256b82c-64d2-4fef-9ec1-1ef3f5bd9b95"
      },
      "execution_count": null,
      "outputs": [
        {
          "output_type": "stream",
          "name": "stdout",
          "text": [
            "['pleurocapsaceous', 'naw', 'gasification', 'lepisosteidae', 'disadventure', 'seriatim', 'hyperorthognathic', 'revictory', 'fritter', 'nontelegraphic']\n"
          ]
        }
      ]
    },
    {
      "cell_type": "code",
      "source": [
        "# I noticed that the words are not very common, they're also very different and most of them are long"
      ],
      "metadata": {
        "id": "YRcgvnu8ZZHe"
      },
      "execution_count": null,
      "outputs": []
    },
    {
      "cell_type": "code",
      "execution_count": null,
      "metadata": {
        "colab": {
          "base_uri": "https://localhost:8080/"
        },
        "id": "Sc75PD3z2ma4",
        "outputId": "929a93d4-3a75-4500-c21a-f2b7268d5a26"
      },
      "outputs": [
        {
          "output_type": "stream",
          "name": "stdout",
          "text": [
            "There are 16982 words that start with A!\n",
            "There are 3624 words that contain the letter Q!\n",
            "0.32828321603753463 of the words do not contain e!\n"
          ]
        }
      ],
      "source": [
        "a_words = list()\n",
        "for word in alpha_list:\n",
        "  if word[0] == 'a':\n",
        "    a_words.append(word)\n",
        "print('There are', len(a_words), 'words that start with A!')\n",
        "\n",
        "\n",
        "q_words = list()\n",
        "for word in alpha_list:\n",
        "  letter = 'q'\n",
        "  if letter in word:\n",
        "    q_words.append(word)\n",
        "print('There are', len(q_words), 'words that contain the letter Q!')\n",
        "\n",
        "\n",
        "no_e_fraction = list()\n",
        "for word in alpha_list:\n",
        " letter = 'e'\n",
        " if letter not in word:\n",
        "  no_e_fraction.append(word)\n",
        "print(len(no_e_fraction)/len(alpha_list), 'of the words do not contain e!')"
      ]
    },
    {
      "cell_type": "code",
      "source": [
        "import numpy as np\n",
        "alpha_list_array = np.array(alpha_list)\n",
        "\n",
        "alphabet = [chr(i) for i in range(ord('a'),ord('z')+1)]\n",
        "print(alphabet)"
      ],
      "metadata": {
        "colab": {
          "base_uri": "https://localhost:8080/"
        },
        "id": "YgkM48-2A5VK",
        "outputId": "c02f02b3-ee0b-4c13-d515-fb0345a9fcfa"
      },
      "execution_count": null,
      "outputs": [
        {
          "output_type": "stream",
          "name": "stdout",
          "text": [
            "['a', 'b', 'c', 'd', 'e', 'f', 'g', 'h', 'i', 'j', 'k', 'l', 'm', 'n', 'o', 'p', 'q', 'r', 's', 't', 'u', 'v', 'w', 'x', 'y', 'z']\n"
          ]
        }
      ]
    },
    {
      "cell_type": "code",
      "source": [
        "# The line provided prints all of the letters in the alphabet from A-Z in lowercase"
      ],
      "metadata": {
        "id": "e8s3xze6BfyW"
      },
      "execution_count": null,
      "outputs": []
    },
    {
      "cell_type": "code",
      "source": [
        "import matplotlib.pyplot as plt\n",
        "\n",
        "\n",
        "frequency = list()\n",
        "for letter in alphabet:\n",
        "    count = sum(1 for word in wordlist if word[0] == letter)\n",
        "    frequency.append(count)\n",
        "\n",
        "x_values = alphabet\n",
        "y_values = frequency\n",
        "\n",
        "plt.bar(x_values, y_values)\n",
        "plt.plot()\n",
        "\n",
        "plt.xlabel(\"Letters in Alphabet\")\n",
        "plt.ylabel(\"Frequency of Letters\")\n",
        "plt.title(\"Frequency of First Letters in our Dictionary!\")\n",
        "plt.show()\n",
        "\n"
      ],
      "metadata": {
        "colab": {
          "base_uri": "https://localhost:8080/",
          "height": 472
        },
        "id": "Nc18UqGeBoM1",
        "outputId": "171db9c9-2277-429c-a6a9-f96fc3039f03"
      },
      "execution_count": null,
      "outputs": [
        {
          "output_type": "display_data",
          "data": {
            "text/plain": [
              "<Figure size 640x480 with 1 Axes>"
            ],
            "image/png": "[encoded data removed]"
          },
          "metadata": {}
        }
      ]
    },
    {
      "cell_type": "code",
      "source": [
        "print('The six longest words are', sorted(alpha_list, key=len, reverse=True)[:6])"
      ],
      "metadata": {
        "colab": {
          "base_uri": "https://localhost:8080/"
        },
        "id": "F4VZxjbzRIto",
        "outputId": "2594fe72-9068-46e8-9ecc-458a074cdae6"
      },
      "execution_count": null,
      "outputs": [
        {
          "output_type": "stream",
          "name": "stdout",
          "text": [
            "The six longest words are ['antidisestablishmentarianism', 'formaldehydesulphoxylate', 'pathologicopsychological', 'scientificophilosophical', 'tetraiodophenolphthalein', 'thyroparathyroidectomize']\n"
          ]
        }
      ]
    },
    {
      "cell_type": "code",
      "source": [
        "longest_word = (sorted(alpha_list, key=len, reverse=True)[0])\n",
        "print(longest_word)\n",
        "#This is used to create a max for the histogram that is the length of the longest word"
      ],
      "metadata": {
        "colab": {
          "base_uri": "https://localhost:8080/"
        },
        "id": "0Wdhdr7c24Cp",
        "outputId": "dc09d7e6-b1d9-4ce1-c09f-8dfe012009ec"
      },
      "execution_count": null,
      "outputs": [
        {
          "output_type": "stream",
          "name": "stdout",
          "text": [
            "antidisestablishmentarianism\n"
          ]
        }
      ]
    },
    {
      "cell_type": "code",
      "source": [
        "import matplotlib.pyplot as plt\n",
        "data = [len(word) for word in alpha_list]\n",
        "plt.hist(data, bins=len(longest_word))\n",
        "plt.title(\"Frequency of Word Length in our Dictionary\")\n",
        "plt.xlabel(\"Length of Word\")\n",
        "plt.ylabel(\"Frequency\")\n",
        "plt.show()"
      ],
      "metadata": {
        "colab": {
          "base_uri": "https://localhost:8080/",
          "height": 472
        },
        "id": "KaLcB5gjxbGC",
        "outputId": "9e321864-a2d4-43a0-bced-af53378caafe"
      },
      "execution_count": null,
      "outputs": [
        {
          "output_type": "display_data",
          "data": {
            "text/plain": [
              "<Figure size 640x480 with 1 Axes>"
            ],
            "image/png": "[encoded data removed]"
          },
          "metadata": {}
        }
      ]
    },
    {
      "cell_type": "code",
      "source": [
        "# The most common length is around 9 letters"
      ],
      "metadata": {
        "id": "DiOjmqlh2s0r"
      },
      "execution_count": null,
      "outputs": []
    },
    {
      "cell_type": "code",
      "source": [
        "v_words = list()\n",
        "for word in alpha_list:\n",
        "  letter = 'v'\n",
        "  if letter in word:\n",
        "    v_words.append(word)\n",
        "\n",
        "a_wordss = list()\n",
        "for word in alpha_list:\n",
        "  letter = 'a'\n",
        "  if letter in word:\n",
        "    a_wordss.append(word)\n",
        "\n",
        "va_words = []\n",
        "for word in a_wordss:\n",
        "  if word in v_words:\n",
        "    va_words.append(word)\n",
        "print('There are', len(va_words), 'words that contain both A and V')"
      ],
      "metadata": {
        "id": "dj15JbXUF5Sf",
        "colab": {
          "base_uri": "https://localhost:8080/"
        },
        "outputId": "9490cb31-7f38-4cfb-b5ab-b40b7916df6a"
      },
      "execution_count": null,
      "outputs": [
        {
          "output_type": "stream",
          "name": "stdout",
          "text": [
            "There are 11347 words that contain both A and V\n"
          ]
        }
      ]
    },
    {
      "cell_type": "code",
      "source": [
        "#This code took 39 seconds to run, and loops through the word list 3 times. This could definitely be more efficient, but as a beginner this was the most logical way to code this."
      ],
      "metadata": {
        "id": "TfZIG7MIXktX"
      },
      "execution_count": null,
      "outputs": []
    },
    {
      "cell_type": "code",
      "source": [
        "w_words = list()\n",
        "for word in alpha_list:\n",
        "  letter = 'w'\n",
        "  if letter in word:\n",
        "    w_words.append(word)\n",
        "\n",
        "l_words = list()\n",
        "for word in alpha_list:\n",
        "  letter = 'l'\n",
        "  if letter in word:\n",
        "    l_words.append(word)\n",
        "\n",
        "wl_words = []\n",
        "for word in l_words:\n",
        "  if word in w_words:\n",
        "    wl_words.append(word)\n",
        "print('There are', len(wl_words), 'words that contain both W and L')"
      ],
      "metadata": {
        "colab": {
          "base_uri": "https://localhost:8080/"
        },
        "id": "2D1I66s--Thg",
        "outputId": "f8f6dd50-4891-4831-f3ec-2134dd64f5c8"
      },
      "execution_count": null,
      "outputs": [
        {
          "output_type": "stream",
          "name": "stdout",
          "text": [
            "There are 4822 words that contain both W and L\n"
          ]
        }
      ]
    },
    {
      "cell_type": "code",
      "source": [
        "#This code took 24 seconds to run, and loops through the word list 3 times. This could definitely be more efficient, but as a beginner this was the most logical way to code this."
      ],
      "metadata": {
        "id": "W564CXF-YENQ"
      },
      "execution_count": null,
      "outputs": []
    }
  ]
}