{
  "cells": [
    {
      "cell_type": "markdown",
      "metadata": {
        "id": "view-in-github",
        "colab_type": "text"
      },
      "source": [
        "<a href=\"https://colab.research.google.com/github/clairembassett/DS-1002/blob/main/Assignments/10_Bulls_Cows.ipynb\" target=\"_parent\"><img src=\"https://colab.research.google.com/assets/colab-badge.svg\" alt=\"Open In Colab\"/></a>"
      ]
    },
    {
      "cell_type": "markdown",
      "metadata": {
        "id": "lSwr8T3SNrkj"
      },
      "source": [
        "## Bulls and Cows:\n",
        "### Another guessing game.\n",
        "### Assignment due Wednesday 10 April at 10 am\n",
        "\n",
        "General instructions:\n",
        "\n",
        "1. You may work in teams of up to three people.  As usual, if you do this, make sure all names are clearly displayed at the top of your submission, and all team members should submit the same GitHub URL.\n",
        "\n",
        "1. Use only basic Python code.  Do not use `numpy` arrays or functions.\n",
        "\n",
        "2. Practice utilizing the coding concepts we have studied.  \n",
        "\n",
        "3. Write docstrings for all your functions.\n",
        "\n"
      ]
    },
    {
      "cell_type": "markdown",
      "metadata": {
        "id": "qrWRyeI2NwHA"
      },
      "source": [
        "### Goal:  program this game\n",
        "In this assignment you will program a version of an old game called Bulls and Cows.  It is somewhat similar to Wordle, but with numbers instead of words (and various other differences . . . read carefully!).\n",
        "\n",
        "The game is played like this:  \n",
        "1. The computer will choose a secret code that the player is trying to guess.\n",
        "2. The secret code will be 4 digits long.  It will use only the digits 1-6, and it will have no repeated digits.  For example the secret code might be 1326 or 6241 but it cannot be 2652 or 4913 or 2601.\n",
        "3. The computer will prompt the user for a guess, and the user will guess.  The guess must follow the same rules (4 digits long, only use digits 1-6, no repeats).  The program should not allow an invalid guess.\n",
        "4. After each guess, the computer will give feedback to the user as follows:  \n",
        "(i) Each digit of the guess that is in the secret code and in the correct position is called a Bull (B).  \n",
        "(ii) Each digit of the guess that exists somewhere in the secret code, but *not* in the same position as in the guess, is called a Cow (C).  \n",
        "(iii) A digit of the guess that doesn't occur anywhere in the secret code is called a miss (X).  \n",
        "The computer will inform the user how many Bulls, how many Cows, and how many misses the user's guess had.  \n",
        "The feedback will always start with B's, then list C's, then list X's.  \n",
        "For example if the secret code is 1326  \n",
        "and the guess is 4316  \n",
        "then the computer should respond with \"BBCX\"  \n",
        "because there are two Bulls (the 3 and the 6 are Bulls, because they occur in the same position in the guess as in the secret code),  \n",
        "one Cow (the 1, which is a correct digit but in the wrong position),  \n",
        "and one Miss (the 4, which does not occur anywhere in the secret code).  \n",
        "> **Important:** the feedback string should always list the Bulls first, then the Cows, then the Misses.  It should **not** tell the user which digits are which!  The only information in the feedback string is how many of each there are.  In the example above, for instance, the feedback is **not** \"XBCB\" but rather \"BBCX\".  This is different from Wordle, if you are familiar with that game.\n",
        "5. The user should then be prompted for another guess.  This guess-with-feedback process should be repeated until the user gets the correct code, at which point the computer should indicate that they have won the game.  However, the user should only be allowed 6 guesses; if they don't guess correctly in 6 attempts, then following the feedback from their final guess they should get a message that they have lost the game, and the secret code should be revealed.\n",
        "\n",
        "\n",
        "\n",
        "\n",
        "\n",
        "\n",
        "\n"
      ]
    },
    {
      "cell_type": "markdown",
      "source": [
        "### Steps\n",
        "We will build this game using several functions.  \n",
        "\n",
        "1. **Count the Bulls:**  \n",
        "Write a function that takes two lists of the same length, and returns the number of Bulls.  That is, it should return the number of indices where the lists contain the same element.  *(Note:  you don't have to check that the entries are between 1 and 6, or that there are no repeats, etc.  A different function will do that.)*\n",
        "\n",
        "> A sample run might look like\n",
        "```\n",
        "first = [11, 3, 17, 5, 1]\n",
        "second = [20, 2, 17, 3, 1]\n",
        "count_bulls(first,second)\n",
        "```\n",
        "```\n",
        " 2\n",
        "```\n"
      ],
      "metadata": {
        "id": "XSH1JULaurD1"
      }
    },
    {
      "cell_type": "markdown",
      "source": [
        "Define your function in the code chunk below.  The function definition command and the return command are pre-populated for you.  You just have to fill in the part which does the actual counting.  I recommend using a list comprehension to do this.\n"
      ],
      "metadata": {
        "id": "pXoOyBk7xmPa"
      }
    },
    {
      "cell_type": "code",
      "source": [
        "def count_bulls(first, second):\n",
        "\n",
        "  '''\n",
        "  Purpose: Count the # of elements in the first list that are in the same position in the second list\n",
        "  Inputs:\n",
        "  first and second\n",
        "\n",
        "  Output:\n",
        "  The # of elements in the first list that are in the same position as the second list\n",
        "\n",
        "  '''\n",
        "  #This for loop is checking for a number in numbers that matches to the guess, because the input takes guess as a string automatically I converted numbers to a string\n",
        "  return sum(1 for item1, item2 in zip(first, second) if item1 == item2)"
      ],
      "metadata": {
        "id": "vEsRSe8KxlcF"
      },
      "execution_count": 231,
      "outputs": []
    },
    {
      "cell_type": "markdown",
      "source": [
        "Add code and/or text chunks below to demonstrate that you have tested your code and that it works correctly."
      ],
      "metadata": {
        "id": "yACJyJtOzE2U"
      }
    },
    {
      "cell_type": "code",
      "source": [
        "first = [1,2,3,4,5]\n",
        "second = [1,2,3,4,5]\n",
        "\n",
        "print(count_bulls(first,second))"
      ],
      "metadata": {
        "colab": {
          "base_uri": "https://localhost:8080/"
        },
        "id": "PlgiFaOHl0sO",
        "outputId": "3576db96-a9c2-4611-b5ee-5b75e74b0e4a"
      },
      "execution_count": 84,
      "outputs": [
        {
          "output_type": "stream",
          "name": "stdout",
          "text": [
            "5\n"
          ]
        }
      ]
    },
    {
      "cell_type": "code",
      "source": [
        "first = [1,2,3,4,5]\n",
        "second = [5,4,3,2,1]\n",
        "\n",
        "print(count_bulls(first,second))"
      ],
      "metadata": {
        "colab": {
          "base_uri": "https://localhost:8080/"
        },
        "id": "fbWNuj1Tb15Q",
        "outputId": "fcf524ce-29eb-445a-f8a4-97ff8f9deee0"
      },
      "execution_count": 85,
      "outputs": [
        {
          "output_type": "stream",
          "name": "stdout",
          "text": [
            "1\n"
          ]
        }
      ]
    },
    {
      "cell_type": "code",
      "source": [
        "first = [20, 5, 10, 8, 2]\n",
        "second = [20, 10, 5, 2, 2]\n",
        "\n",
        "print(count_bulls(first,second))"
      ],
      "metadata": {
        "colab": {
          "base_uri": "https://localhost:8080/"
        },
        "id": "Dm44YJNbb7Sz",
        "outputId": "8c877490-f042-4637-de37-5b23a9edc0d0"
      },
      "execution_count": 86,
      "outputs": [
        {
          "output_type": "stream",
          "name": "stdout",
          "text": [
            "2\n"
          ]
        }
      ]
    },
    {
      "cell_type": "markdown",
      "source": [
        "2. **Count something else:**  \n",
        "To count the cows it will be helpful first to count how many of the elements occur in both strings, without paying attention their positions.\n",
        "Write a function called `count_animals` that takes two lists of the same length, and returns the number of elements of the second list that are also in the first list.  (In the game setting, each such element is either a Bull or a Cow, but don't worry about which is which for this problem.)\n",
        "You may assume the lists do not contain repeated elements, since this will be the case when the function is called in the game.\n",
        "\n",
        "> This time a sample run might look like\n",
        "```\n",
        "first = [11, 3, 17, 5, 1]\n",
        "second = [20, 2, 17, 3, 1]\n",
        "count_animals(first,second)\n",
        "```\n",
        "```\n",
        " 3\n",
        "```\n",
        "\n",
        "This one isn't started for you.  Remember to include a docstring.  This can also be done using a list comprehension, similar to the previous function.\n",
        "\n"
      ],
      "metadata": {
        "id": "aMsOmejkzNVN"
      }
    },
    {
      "cell_type": "code",
      "source": [
        "def count_animals(first, second):\n",
        "\n",
        "  '''\n",
        "  Purpose: Count the # of elements in the first list that are in the second list\n",
        "\n",
        "  Inputs:\n",
        "  first and second\n",
        "\n",
        "  Output:\n",
        "  The # of elements in the first list that are in the second list\n",
        "\n",
        "  '''\n",
        "  return sum(item in second for item in first)"
      ],
      "metadata": {
        "id": "yRX219q02e6i"
      },
      "execution_count": 236,
      "outputs": []
    },
    {
      "cell_type": "markdown",
      "source": [
        "Again, demonstrate below that you have tested your code and that it works."
      ],
      "metadata": {
        "id": "HXRNwANS2f-4"
      }
    },
    {
      "cell_type": "code",
      "source": [
        "first = [1,2,3,4,5]\n",
        "second = [5,4,3,2,1]\n",
        "count_animals(first, second)"
      ],
      "metadata": {
        "colab": {
          "base_uri": "https://localhost:8080/"
        },
        "id": "fRUJFm9cqC9F",
        "outputId": "c81e63ff-b434-486f-d283-0703b9ef7944"
      },
      "execution_count": 91,
      "outputs": [
        {
          "output_type": "execute_result",
          "data": {
            "text/plain": [
              "5"
            ]
          },
          "metadata": {},
          "execution_count": 91
        }
      ]
    },
    {
      "cell_type": "code",
      "source": [
        "first = [1,2,3,4,5]\n",
        "second = [5,6,7,8,9]\n",
        "count_animals(first, second)"
      ],
      "metadata": {
        "colab": {
          "base_uri": "https://localhost:8080/"
        },
        "id": "GIJdlZhNqMwY",
        "outputId": "3e3879ae-711b-40cd-c7ad-a02e931472b8"
      },
      "execution_count": 92,
      "outputs": [
        {
          "output_type": "execute_result",
          "data": {
            "text/plain": [
              "1"
            ]
          },
          "metadata": {},
          "execution_count": 92
        }
      ]
    },
    {
      "cell_type": "markdown",
      "source": [
        "3. **Count the cows:**  \n",
        "Write a function called `count_cows` that counts the cows.  \n",
        "> This time a sample run might look like\n",
        "```\n",
        "first = [11, 3, 17, 5, 1]\n",
        "second = [20, 2, 17, 3, 1]\n",
        "count_cows(first,second)\n",
        "```\n",
        "```\n",
        " 1\n",
        "```\n",
        "*Use the two previously defined functions to help you!  \n",
        "In fact, remember that the only reason we wrote the `count_animals` function was to help count the cows.*\n",
        "\n",
        "You can do this with only two lines of code, not counting documentation!"
      ],
      "metadata": {
        "id": "x2DAPkxj2GMo"
      }
    },
    {
      "cell_type": "code",
      "source": [
        "def count_cows(first, second):\n",
        "  '''\n",
        "  Purpose: Subract the number of elements that occur in both the first and second list from the number of elements that are in the same position in both lists to avoid double counting\n",
        "  Inputs:\n",
        "  count_animals(first, second), count_bulls(first, second)\n",
        "\n",
        "  Output:\n",
        "  The # of elements in the count_animals function that are not in the count_bulls function\n",
        "\n",
        "  '''\n",
        "  return count_animals(first, second) - count_bulls(first, second)"
      ],
      "metadata": {
        "id": "Bz2cWnSKhP1a"
      },
      "execution_count": 235,
      "outputs": []
    },
    {
      "cell_type": "markdown",
      "metadata": {
        "id": "hWQhYDIVYjXr"
      },
      "source": [
        "4. **Create feedback string**  \n",
        "Write a `build_response_str` function that takes three numbers, say `b,c,l`, and outputs a string of total length `l` that consists of `b` B's, followed by `c` C's, and the rest X's (until the total length is `l`).\n",
        "\n",
        "> Sample run:\n",
        "```\n",
        "build_response_str(4,3,9)\n",
        "```\n",
        "```\n",
        "BBBBCCCXX\n",
        "```"
      ]
    },
    {
      "cell_type": "code",
      "source": [
        "# define your function here\n",
        "def build_response_str(l, b, c):\n",
        "  '''\n",
        "  Purpose: To build responses based on the number of each input and related to its length\n",
        "  Inputs:\n",
        "  l,c,b, and x(derivative of all the other inputs)\n",
        "\n",
        "  Output:\n",
        "  A string of total length l that consists of b B's, followed by c C's, and the rest X's (until the total length is l).\n",
        "  '''\n",
        "  x = l - b - c\n",
        "  response_str = ('B' * b) + ('C' * c)+ ('X' * x)\n",
        "  return response_str"
      ],
      "metadata": {
        "id": "GSimWqUsMaPE"
      },
      "execution_count": 233,
      "outputs": []
    },
    {
      "cell_type": "markdown",
      "source": [
        "Test your code here."
      ],
      "metadata": {
        "id": "2D14kxTU7ApH"
      }
    },
    {
      "cell_type": "code",
      "source": [
        "b = 2\n",
        "c = 2\n",
        "l = 5\n",
        "\n",
        "build_response_str(l,b,c)"
      ],
      "metadata": {
        "colab": {
          "base_uri": "https://localhost:8080/",
          "height": 35
        },
        "id": "XaRJwP_5rO23",
        "outputId": "5dba01d4-591d-4f11-f506-d6fd0abf3523"
      },
      "execution_count": 111,
      "outputs": [
        {
          "output_type": "execute_result",
          "data": {
            "text/plain": [
              "'BBCCX'"
            ],
            "application/vnd.google.colaboratory.intrinsic+json": {
              "type": "string"
            }
          },
          "metadata": {},
          "execution_count": 111
        }
      ]
    },
    {
      "cell_type": "code",
      "source": [
        "b = 4\n",
        "c = 3\n",
        "l = 10\n",
        "\n",
        "build_response_str(l,b,c)"
      ],
      "metadata": {
        "colab": {
          "base_uri": "https://localhost:8080/",
          "height": 35
        },
        "id": "I3IoB6U_rX2X",
        "outputId": "a0e13210-9e77-4cb1-d55d-f6b917701952"
      },
      "execution_count": 112,
      "outputs": [
        {
          "output_type": "execute_result",
          "data": {
            "text/plain": [
              "'BBBBCCCXXX'"
            ],
            "application/vnd.google.colaboratory.intrinsic+json": {
              "type": "string"
            }
          },
          "metadata": {},
          "execution_count": 112
        }
      ]
    },
    {
      "cell_type": "markdown",
      "metadata": {
        "id": "omzE6sLKwsMC"
      },
      "source": [
        "5.  **Generate feedback for guesses**  \n",
        "Write a function `response(first,second)` that takes two lists of the same length, and outputs a string consisting of some number of B's followed by some number of C's followed by some number of X's, where the numbers correspond to the things we counted above.  That is, if `first` were the secret code in the game and `second` were the user's guess, then we would print one B for each Bull, one C for each Cow, and one X for each Miss. The total output string should have the same length as the input strings.\n",
        "\n",
        "> Sample run:\n",
        "```\n",
        "first = [11, 3, 17, 5, 1]\n",
        "second = [20, 2, 17, 3, 1]\n",
        "response(first,second)\n",
        "```\n",
        "```\n",
        " BBCXX\n",
        "```\n",
        "\n",
        "With all the functions you've already put in place, this should be simple.  Test your code once it's written.\n"
      ]
    },
    {
      "cell_type": "code",
      "source": [
        "def response(first, second):\n",
        "\n",
        "  '''\n",
        "  Purpose: To build a response based on how many elements are in both lists(C),how many are in the same location(B), and numbers not in the list\n",
        "\n",
        "  Input:\n",
        "  count_bulls(first, second) and count_cows(first, second)\n",
        "\n",
        "  Output:\n",
        "  The culmination of the amount of bulls, cows, and misses represented by \"B\", \"C\", and \"X\"\n",
        "\n",
        "  '''\n",
        "\n",
        "  l = len(first)\n",
        "  x = l - count_bulls(first, second) - count_cows(first, second)\n",
        "  response_str = ('B' * count_bulls(first, second)) + ('C' * count_cows(first, second)) + ('X' * x)\n",
        "  return response_str"
      ],
      "metadata": {
        "id": "RD1qq7l783y5"
      },
      "execution_count": 234,
      "outputs": []
    },
    {
      "cell_type": "code",
      "source": [
        "first = [1,2,3,4,5]\n",
        "second = [1,2,4,3,20]\n",
        "response(first,second)"
      ],
      "metadata": {
        "colab": {
          "base_uri": "https://localhost:8080/",
          "height": 35
        },
        "id": "dNqf3Abbsm2h",
        "outputId": "9bf10081-bb7d-4309-d282-254f065b81e7"
      },
      "execution_count": 119,
      "outputs": [
        {
          "output_type": "execute_result",
          "data": {
            "text/plain": [
              "'BBCCX'"
            ],
            "application/vnd.google.colaboratory.intrinsic+json": {
              "type": "string"
            }
          },
          "metadata": {},
          "execution_count": 119
        }
      ]
    },
    {
      "cell_type": "code",
      "source": [
        "first = [21, 6, 8, 19, 2]\n",
        "second = [21, 8, 6, 23, 4]\n",
        "response(first,second)"
      ],
      "metadata": {
        "colab": {
          "base_uri": "https://localhost:8080/",
          "height": 35
        },
        "id": "eZ8lhM12utqx",
        "outputId": "2afbeafe-20e3-4282-babb-65d7701bfd27"
      },
      "execution_count": 120,
      "outputs": [
        {
          "output_type": "execute_result",
          "data": {
            "text/plain": [
              "'BCCXX'"
            ],
            "application/vnd.google.colaboratory.intrinsic+json": {
              "type": "string"
            }
          },
          "metadata": {},
          "execution_count": 120
        }
      ]
    },
    {
      "cell_type": "code",
      "source": [
        "first = [1,2,3,4,5]\n",
        "second = [2,1,3,20,5]\n",
        "response(first,second)"
      ],
      "metadata": {
        "colab": {
          "base_uri": "https://localhost:8080/",
          "height": 35
        },
        "id": "Qt1S7ggou5x_",
        "outputId": "83956897-235f-4dde-9a58-2cf7ccd971e9"
      },
      "execution_count": 121,
      "outputs": [
        {
          "output_type": "execute_result",
          "data": {
            "text/plain": [
              "'BBCCX'"
            ],
            "application/vnd.google.colaboratory.intrinsic+json": {
              "type": "string"
            }
          },
          "metadata": {},
          "execution_count": 121
        }
      ]
    },
    {
      "cell_type": "markdown",
      "metadata": {
        "id": "LWshNPjPZJdQ"
      },
      "source": [
        "6.  **Choose the secret code**  \n",
        "The `random` package, and specifically the `sample` sub-package, is useful for generating random samples.  Try running the following lines of code several times.\n",
        "\n"
      ]
    },
    {
      "cell_type": "code",
      "source": [
        "from random import sample\n",
        "\n",
        "sample(range(1,7),4)  # the first argument is the population to be sampled, and the second is the number of samples\n",
        "                      # recall that `range(a,b)` includes `a` but stops at `b-1`"
      ],
      "metadata": {
        "id": "OzEZ5BQZ85jV",
        "colab": {
          "base_uri": "https://localhost:8080/"
        },
        "outputId": "cd264194-7e71-408c-abe3-8456c0a4b08d"
      },
      "execution_count": 122,
      "outputs": [
        {
          "output_type": "execute_result",
          "data": {
            "text/plain": [
              "[1, 4, 3, 5]"
            ]
          },
          "metadata": {},
          "execution_count": 122
        }
      ]
    },
    {
      "cell_type": "markdown",
      "source": [
        "What type of object is returned by the `sample` function?\n"
      ],
      "metadata": {
        "id": "N1BOe2Xd-kr4"
      }
    },
    {
      "cell_type": "markdown",
      "source": [
        "Method"
      ],
      "metadata": {
        "id": "yGZw8xFZ-uN4"
      }
    },
    {
      "cell_type": "markdown",
      "source": [
        "7. **Verify the guess**  \n",
        "Finish writing a function called `get_guess` (started below) to prompt the user for a guess and then make sure the input is valid according to the rules of the game.\n",
        "The prompt is already given.  Note that the `list` command converts the input into a list of characters so that it can be passed to the other functions (which are expecting lists).   \n",
        ">**Alert:  you will likely have to think more about data types before this is all over.**"
      ],
      "metadata": {
        "id": "mbK84TdIAVsO"
      }
    },
    {
      "cell_type": "code",
      "source": [
        "def get_guess():\n",
        "\n",
        "    '''\n",
        "    Purpose: Check that the guess meets the game parameters\n",
        "\n",
        "    Inputs:\n",
        "    Guess\n",
        "\n",
        "    Output:\n",
        "    Result of if the input(guess) meets the parameters\n",
        "\n",
        "    '''\n",
        "# Add code as needed to verify that the guess is legitimate.\n",
        "# Respond to an illegitimate guess with a message telling the user what the rules are\n",
        "# and asking to try again.\n",
        "\n",
        "    guess = list(input(\"Enter your guess: \"))\n",
        "\n",
        "    if len(guess) != 4:\n",
        "      print('Please guess 4 numbers. Try again!')\n",
        "      return\n",
        "\n",
        "    for num in guess:\n",
        "      if int(num) not in range(1,7):\n",
        "        print('Please answer with numbers between 1-6. Try again!')\n",
        "        return\n",
        "\n",
        "    if len(set(guess)) != len(guess):\n",
        "      print('Your guess cannot include repeats. Try again!')\n",
        "      return\n",
        "\n",
        "    else:\n",
        "        print('Guess Valid')\n",
        "\n",
        "get_guess()"
      ],
      "metadata": {
        "id": "13HGg6VvBXSH",
        "colab": {
          "base_uri": "https://localhost:8080/"
        },
        "outputId": "d58a7078-5f5c-4de0-b53b-f409def721bf"
      },
      "execution_count": 239,
      "outputs": [
        {
          "output_type": "stream",
          "name": "stdout",
          "text": [
            "Enter your guess: 12346\n",
            "Please guess 4 numbers. Try again!\n"
          ]
        }
      ]
    },
    {
      "cell_type": "code",
      "source": [
        "def get_guess():\n",
        "# Add code as needed to verify that the guess is legitimate.\n",
        "# Respond to an illegitimate guess with a message telling the user what the rules are\n",
        "# and asking to try again.\n",
        "\n",
        "  guess = list(input(\"Enter your guess: \"))\n",
        "\n",
        "  if len(guess) != 4:\n",
        "    print('Please guess 4 numbers. Try again!')\n",
        "    return\n",
        "\n",
        "  for num in guess:\n",
        "    if int(num) not in range(1,7):\n",
        "      print('Please answer with numbers between 1-6. Try again!')\n",
        "      return\n",
        "\n",
        "  if len(set(guess)) != len(guess):\n",
        "    print('Your guess cannot include repeats. Try again!')\n",
        "    return\n",
        "\n",
        "  else:\n",
        "      print('Guess Valid')\n",
        "\n",
        "get_guess()"
      ],
      "metadata": {
        "colab": {
          "base_uri": "https://localhost:8080/"
        },
        "id": "f3jxaaz000Ep",
        "outputId": "c9800548-aa48-4b9b-c2f2-5a0465f0c8a9"
      },
      "execution_count": 174,
      "outputs": [
        {
          "output_type": "stream",
          "name": "stdout",
          "text": [
            "Enter your guess: 1239\n",
            "Please answer with numbers between 1-6. Try again!\n"
          ]
        }
      ]
    },
    {
      "cell_type": "code",
      "source": [
        "def get_guess():\n",
        "# Add code as needed to verify that the guess is legitimate.\n",
        "# Respond to an illegitimate guess with a message telling the user what the rules are\n",
        "# and asking to try again.\n",
        "  guess = list(input(\"Enter your guess: \"))\n",
        "  if len(guess) != 4:\n",
        "    print('Please guess 4 numbers. Try again!')\n",
        "    return\n",
        "\n",
        "  for num in guess:\n",
        "    if int(num) not in range(1,7):\n",
        "      print('Please answer with numbers between 1-6. Try again!')\n",
        "      return\n",
        "\n",
        "  if len(set(guess)) != len(guess):\n",
        "    print('Your guess cannot include repeats. Try again!')\n",
        "    return\n",
        "\n",
        "  else:\n",
        "      print('Guess Valid')\n",
        "\n",
        "get_guess()"
      ],
      "metadata": {
        "colab": {
          "base_uri": "https://localhost:8080/"
        },
        "id": "yl_XMtZx1AoB",
        "outputId": "321480a1-897a-498e-d718-3c8b5172afaa"
      },
      "execution_count": 226,
      "outputs": [
        {
          "output_type": "stream",
          "name": "stdout",
          "text": [
            "Enter your guess: 1234\n",
            "Guess Valid\n"
          ]
        }
      ]
    },
    {
      "cell_type": "markdown",
      "source": [
        "As usual, test your code.  What type of objects are we dealing with here?"
      ],
      "metadata": {
        "id": "PSPYpeZYONf0"
      }
    },
    {
      "cell_type": "markdown",
      "source": [
        "Strings!"
      ],
      "metadata": {
        "id": "Tz69Ynwe1k7N"
      }
    },
    {
      "cell_type": "markdown",
      "source": [
        "8. **Put it all together**  \n",
        "Finally, fill in the details of the function `bulls_cows` below so that it will play the game of Bulls and Cows when called.  Note that the function takes no arguments and returns nothing.\n"
      ],
      "metadata": {
        "id": "WdtvUrA4-uzn"
      }
    },
    {
      "cell_type": "code",
      "source": [
        "from random import sample\n",
        "\n",
        "def count_bulls(code, guess):\n",
        "    return sum(1 for item1, item2 in zip(guess, code) if item1 == item2)\n",
        "\n",
        "def count_animals(code, guess):\n",
        "    return sum(1 for item in guess if item in code)\n",
        "\n",
        "def count_cows(code, guess):\n",
        "    return count_animals(code, guess) - count_bulls(code, guess)\n",
        "\n",
        "def response(code, guess):\n",
        "    x = 4 - count_bulls(code, guess) - count_cows(code, guess)\n",
        "    response_str = ('B' * count_bulls(code, guess)) + ('C' * count_cows(code, guess)) + ('X' * x)\n",
        "    return response_str\n",
        "\n",
        "def get_guess():\n",
        "\n",
        "    guess = list(input(\"Enter your guess: \"))\n",
        "\n",
        "    if len(guess) != 4:\n",
        "      print('Please guess 4 numbers. Try again!')\n",
        "      return\n",
        "\n",
        "    for num in guess:\n",
        "      if int(num) not in range(1,7):\n",
        "        print('Please answer with numbers between 1-6. Try again!')\n",
        "        return\n",
        "\n",
        "    if len(set(guess)) != len(guess):\n",
        "      print('Your guess cannot include repeats. Try again!')\n",
        "      return\n",
        "\n",
        "    return guess\n",
        "\n",
        "def bulls_cows():\n",
        "\n",
        "  code = sample(range(1,7),4)         # (finish) computer selects the secret code\n",
        "\n",
        "  for i in range(6):                  # user gets a maximum of 6 guesses\n",
        "    guess = get_guess()\n",
        "    if guess is None:\n",
        "        continue\n",
        "\n",
        "    guess = [int(num) for num in guess]\n",
        "\n",
        "    if code == guess:\n",
        "      print(\"You guessed it!\")\n",
        "      return\n",
        "\n",
        "    print(response(code, guess))\n",
        "\n",
        "  print(f\"You have run out of guesses. The secret code was {code}.\")\n",
        "\n",
        "bulls_cows()"
      ],
      "metadata": {
        "colab": {
          "base_uri": "https://localhost:8080/"
        },
        "id": "3JiUg2bQsVfI",
        "outputId": "27734aa0-a204-4a89-828c-4ac25c4e3bc0"
      },
      "execution_count": 244,
      "outputs": [
        {
          "output_type": "stream",
          "name": "stdout",
          "text": [
            "Enter your guess: 1234\n",
            "BCXX\n",
            "Enter your guess: 4567\n",
            "Please answer with numbers between 1-6. Try again!\n",
            "Enter your guess: 2344\n",
            "Your guess cannot include repeats. Try again!\n",
            "Enter your guess: 1256\n",
            "CCXX\n",
            "Enter your guess: 5634\n",
            "BCCC\n",
            "Enter your guess: 3564\n",
            "You guessed it!\n"
          ]
        }
      ]
    },
    {
      "cell_type": "markdown",
      "metadata": {
        "id": "NzjqX_9K3OuV"
      },
      "source": [
        "Play the game a few times below.  Make sure it behaves as you think it should!"
      ]
    },
    {
      "cell_type": "code",
      "execution_count": 245,
      "metadata": {
        "id": "b-HELV-z3OuW",
        "colab": {
          "base_uri": "https://localhost:8080/"
        },
        "outputId": "d86d46c6-7992-400e-e017-e801b3255dd6"
      },
      "outputs": [
        {
          "output_type": "stream",
          "name": "stdout",
          "text": [
            "Enter your guess: 1235\n",
            "CCCC\n",
            "Enter your guess: 5321\n",
            "BBCC\n",
            "Enter your guess: 1224\n",
            "Your guess cannot include repeats. Try again!\n",
            "Enter your guess: 12345\n",
            "Please guess 4 numbers. Try again!\n",
            "Enter your guess: 1239\n",
            "Please answer with numbers between 1-6. Try again!\n",
            "Enter your guess: 3456\n",
            "BCXX\n",
            "You have run out of guesses. The secret code was [2, 3, 5, 1].\n"
          ]
        }
      ],
      "source": [
        "bulls_cows()"
      ]
    },
    {
      "cell_type": "code",
      "source": [
        "bulls_cows()"
      ],
      "metadata": {
        "id": "inzOdtimDfGU",
        "colab": {
          "base_uri": "https://localhost:8080/"
        },
        "outputId": "5a4e6fc3-5e3d-44b2-d328-ff90a2414a33"
      },
      "execution_count": 246,
      "outputs": [
        {
          "output_type": "stream",
          "name": "stdout",
          "text": [
            "Enter your guess: 1234\n",
            "CCXX\n",
            "Enter your guess: 4321\n",
            "BCXX\n",
            "Enter your guess: 5621\n",
            "BBCC\n",
            "Enter your guess: 5362\n",
            "BCCX\n",
            "Enter your guess: 2651\n",
            "CCCC\n",
            "Enter your guess: 5612\n",
            "BCCC\n",
            "You have run out of guesses. The secret code was [5, 1, 2, 6].\n"
          ]
        }
      ]
    },
    {
      "cell_type": "code",
      "source": [
        "bulls_cows()"
      ],
      "metadata": {
        "id": "Eqw-5laFDfkG",
        "colab": {
          "base_uri": "https://localhost:8080/"
        },
        "outputId": "e8c07f87-995c-41a8-c513-fd53c08cfd88"
      },
      "execution_count": 249,
      "outputs": [
        {
          "output_type": "stream",
          "name": "stdout",
          "text": [
            "Enter your guess: 1234\n",
            "BBCX\n",
            "Enter your guess: 5634\n",
            "CCXX\n",
            "Enter your guess: 1243\n",
            "BBBX\n",
            "Enter your guess: 1253\n",
            "You guessed it!\n"
          ]
        }
      ]
    },
    {
      "cell_type": "markdown",
      "source": [
        "9. **Reflect**  \n",
        "Think of at least three ways you could change the rules or setup of the game, and in each case describe (in one sentence, you don't need to write code) what you would have to do to modify your code to play the new version of the game.  Use a text box below for each of your ideas."
      ],
      "metadata": {
        "id": "a58-KCX4ELRO"
      }
    },
    {
      "cell_type": "markdown",
      "source": [
        "(1)Reveal the exact places that the bulls, cows, and misses are instead of writing the response per function I think you'd treat each character as its own and then add the output to a list in order and print"
      ],
      "metadata": {
        "id": "Jof2vIZSEfwo"
      }
    },
    {
      "cell_type": "markdown",
      "source": [
        "(2)A larger range; for example expanding it to 20 and having a max range of 8 to account for the larger digits, you'd just change the range to 1,21"
      ],
      "metadata": {
        "id": "f2_QlBavEiqW"
      }
    },
    {
      "cell_type": "markdown",
      "source": [
        "(3) You could use different symbols, this would be done by creating a dictionary(perhaps) and then casting it onto a variable. The code would have to be changed to use strings rather then numbers."
      ],
      "metadata": {
        "id": "sqfq2EFpEjZt"
      }
    }
  ],
  "metadata": {
    "colab": {
      "provenance": [],
      "include_colab_link": true
    },
    "kernelspec": {
      "display_name": "Python 3",
      "name": "python3"
    },
    "language_info": {
      "name": "python"
    }
  },
  "nbformat": 4,
  "nbformat_minor": 0
}